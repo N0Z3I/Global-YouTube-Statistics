{
 "cells": [
  {
   "cell_type": "code",
   "execution_count": 4,
   "metadata": {},
   "outputs": [],
   "source": [
    "import pandas as pd "
   ]
  },
  {
   "cell_type": "code",
   "execution_count": 5,
   "metadata": {},
   "outputs": [],
   "source": [
    "df = pd.read_csv('Global_YouTube_Statistics.csv',encoding='iso-8859-1')"
   ]
  },
  {
   "cell_type": "code",
   "execution_count": 6,
   "metadata": {},
   "outputs": [
    {
     "name": "stdout",
     "output_type": "stream",
     "text": [
      "<class 'pandas.core.frame.DataFrame'>\n",
      "RangeIndex: 995 entries, 0 to 994\n",
      "Data columns (total 28 columns):\n",
      " #   Column                                   Non-Null Count  Dtype  \n",
      "---  ------                                   --------------  -----  \n",
      " 0   rank                                     995 non-null    int64  \n",
      " 1   Youtuber                                 995 non-null    object \n",
      " 2   subscribers                              995 non-null    int64  \n",
      " 3   video views                              995 non-null    float64\n",
      " 4   category                                 949 non-null    object \n",
      " 5   Title                                    995 non-null    object \n",
      " 6   uploads                                  995 non-null    int64  \n",
      " 7   Country                                  873 non-null    object \n",
      " 8   Abbreviation                             873 non-null    object \n",
      " 9   channel_type                             965 non-null    object \n",
      " 10  video_views_rank                         994 non-null    float64\n",
      " 11  country_rank                             879 non-null    float64\n",
      " 12  channel_type_rank                        962 non-null    float64\n",
      " 13  video_views_for_the_last_30_days         939 non-null    float64\n",
      " 14  lowest_monthly_earnings                  995 non-null    float64\n",
      " 15  highest_monthly_earnings                 995 non-null    float64\n",
      " 16  lowest_yearly_earnings                   995 non-null    float64\n",
      " 17  highest_yearly_earnings                  995 non-null    float64\n",
      " 18  subscribers_for_last_30_days             658 non-null    float64\n",
      " 19  created_year                             990 non-null    float64\n",
      " 20  created_month                            990 non-null    object \n",
      " 21  created_date                             990 non-null    float64\n",
      " 22  Gross tertiary education enrollment (%)  872 non-null    float64\n",
      " 23  Population                               872 non-null    float64\n",
      " 24  Unemployment rate                        872 non-null    float64\n",
      " 25  Urban_population                         872 non-null    float64\n",
      " 26  Latitude                                 872 non-null    float64\n",
      " 27  Longitude                                872 non-null    float64\n",
      "dtypes: float64(18), int64(3), object(7)\n",
      "memory usage: 217.8+ KB\n"
     ]
    }
   ],
   "source": [
    "df.info()"
   ]
  },
  {
   "cell_type": "markdown",
   "metadata": {},
   "source": [
    "rank: Position of the YouTube channel based on the number of subscribers<br>\n",
    "Youtuber: Name of the YouTube channel<br>\n",
    "subscribers: Number of subscribers to the channel<br>\n",
    "video views: Total views across all videos on the channel<br>\n",
    "category: Category or niche of the channel<br>\n",
    "Title: Title of the YouTube channel<br>\n",
    "uploads: Total number of videos uploaded on the channel<br>\n",
    "Country: Country where the YouTube channel originates<br>\n",
    "Abbreviation: Abbreviation of the country<br>\n",
    "channel_type: Type of the YouTube channel (e.g., individual, brand)<br>\n",
    "video_views_rank: Ranking of the channel based on total video views<br>\n",
    "country_rank: Ranking of the channel based on the number of subscribers within its country<br>\n",
    "channel_type_rank: Ranking of the channel based on its type (individual or brand)<br>\n",
    "video_views_for_the_last_30_days: Total video views in the last 30 days<br>\n",
    "lowest_monthly_earnings: Lowest estimated monthly earnings from the channel<br>\n",
    "highest_monthly_earnings: Highest estimated monthly earnings from the channel<br>\n",
    "lowest_yearly_earnings: Lowest estimated yearly earnings from the channel<br>\n",
    "highest_yearly_earnings: Highest estimated yearly earnings from the channel<br>\n",
    "subscribers_for_last_30_days: Number of new subscribers gained in the last 30 days<br>\n",
    "created_year: Year when the YouTube channel was created<br>\n",
    "created_month: Month when the YouTube channel was created<br>\n",
    "created_date: Exact date of the YouTube channel's creation<br>\n",
    "Gross tertiary education enrollment (%): Percentage of the population enrolled in tertiary education in the country<br>\n",
    "Population: Total population of the country<br>\n",
    "Unemployment rate: Unemployment rate in the country<br>\n",
    "Urban_population: Percentage of the population living in urban areas<br>\n",
    "Latitude: Latitude coordinate of the country's location<br>\n",
    "Longitude: Longitude coordinate of the country's location<br>"
   ]
  }
 ],
 "metadata": {
  "kernelspec": {
   "display_name": "base",
   "language": "python",
   "name": "python3"
  },
  "language_info": {
   "codemirror_mode": {
    "name": "ipython",
    "version": 3
   },
   "file_extension": ".py",
   "mimetype": "text/x-python",
   "name": "python",
   "nbconvert_exporter": "python",
   "pygments_lexer": "ipython3",
   "version": "3.11.5"
  }
 },
 "nbformat": 4,
 "nbformat_minor": 2
}
